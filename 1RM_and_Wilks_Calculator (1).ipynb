{
 "cells": [
  {
   "cell_type": "markdown",
   "id": "11a79398-c434-43cc-8c25-bd27510abcd1",
   "metadata": {},
   "source": [
    "## Estimated One Rep Max and Wilks Calculator for Power Lifting"
   ]
  },
  {
   "cell_type": "markdown",
   "id": "e971de65-da49-402a-9fc8-aeef1ebae866",
   "metadata": {},
   "source": [
    "Estimates your one rep max using the Brzycki Formula based off of number of repetitions performed at a certain weight and also estimates Wilks score. \n",
    "The Wilks Score is simply a ratio between a lifter's body weight and the weight they're lifting. Higher numbers are better. Also referred to as a “coefficient,” the Wilks score allows us to compare a lifters' strength relative to their body weight. Keep in mind these are just estimates and real one rep max and Wilks score will vary for each person as well as if the lifts are performed in competition setting or not. Also keep in mind as the repetitions become higher the formulas become less accurate, so we should keep repetitions performed between 2-10."
   ]
  },
  {
   "cell_type": "code",
   "execution_count": 27,
   "id": "e3f04f49-cb3e-4f5c-a7a8-1c3a9238a5b2",
   "metadata": {},
   "outputs": [
    {
     "name": "stdin",
     "output_type": "stream",
     "text": [
      "Enter weight lifted for a single lift(lb or kg): 225\n",
      "Enter number of repetitions performed: 18\n",
      "Enter unit of measurement (kg or lb only):  lb\n"
     ]
    },
    {
     "name": "stdout",
     "output_type": "stream",
     "text": [
      "Estimates over 10 repetitions may be inaccurate. Use 2 - 10 repetitions.\n",
      "Your Estimated one rep max is: 426.62 lb\n"
     ]
    },
    {
     "data": {
      "text/plain": [
       "426.62"
      ]
     },
     "execution_count": 27,
     "metadata": {},
     "output_type": "execute_result"
    }
   ],
   "source": [
    "#to calulate one rep max\n",
    "def one_rep_max():\n",
    "    # inputs\n",
    "    weight_lifted = int(input(\"Enter weight lifted for a single lift(lb or kg):\" ))\n",
    "    repetitions_performed = int(input(\"Enter number of repetitions performed:\" ))\n",
    "    unit = input(\"Enter unit of measurement (kg or lb only): \")\n",
    "\n",
    "    # Brzycki Formula\n",
    "    one_rm = weight_lifted / (1.0278 - 0.0278 * repetitions_performed)  \n",
    "    \n",
    "    if unit not in  [\"kg\", \"lb\", \"Kg\", \"Lb\", \"KG\", \"LB\"]:\n",
    "        print(\"Invalid unit of measurement, use only kg or lb.\")\n",
    "        return None\n",
    "    \n",
    "    if repetitions_performed > 10:\n",
    "        print(\"Estimates over 10 repetitions may be inaccurate. Use 2 - 10 repetitions.\")\n",
    "    \n",
    "    print(\"Your Estimated one rep max is:\", round(one_rm, 2), unit)\n",
    "    return round(one_rm, 2)\n",
    "    \n",
    "one_rep_max()\n"
   ]
  },
  {
   "cell_type": "code",
   "execution_count": 28,
   "id": "491dba62-aebe-4fd0-85d9-93f15e4ad806",
   "metadata": {},
   "outputs": [
    {
     "name": "stdin",
     "output_type": "stream",
     "text": [
      "Enter one rep max or estimated one rep max of squat:  405\n",
      "Enter one rep max or estimated one rep max of bench:  315\n",
      "Enter one rep max or estimated one rep max of deadlift:  545\n"
     ]
    },
    {
     "name": "stdout",
     "output_type": "stream",
     "text": [
      "Total weight lifted across squat, bench, and deadlift: 1265\n"
     ]
    }
   ],
   "source": [
    "#To calculate total\n",
    "def calculate_total_lifted_weight():\n",
    "    \n",
    "    squat = input(\"Enter one rep max or estimated one rep max of squat: \")\n",
    "    bench = input(\"Enter one rep max or estimated one rep max of bench: \")\n",
    "    deadlift = input(\"Enter one rep max or estimated one rep max of deadlift: \")\n",
    "\n",
    "    total_lifted_weight = int(squat) + int(bench) + int(deadlift)\n",
    "    print(\"Total weight lifted across squat, bench, and deadlift:\", total_lifted_weight)\n",
    "    return total_lifted_weight\n",
    "    \n",
    "\n",
    "total_lifted_weight = calculate_total_lifted_weight()"
   ]
  },
  {
   "cell_type": "code",
   "execution_count": 29,
   "id": "dbd2dcc8-730d-49b1-b376-04468bb6d234",
   "metadata": {
    "scrolled": true
   },
   "outputs": [
    {
     "name": "stdin",
     "output_type": "stream",
     "text": [
      "Enter total lifted weight from all lifts: 1265\n",
      "Enter bodyweight, round to nearest pound/ kilogram: 165\n",
      "Enter unit of measurement (kg or lb only):  lb\n",
      "Enter Sex: male\n"
     ]
    },
    {
     "name": "stdout",
     "output_type": "stream",
     "text": [
      "Your Estimated Wilks score is: 409.46\n"
     ]
    },
    {
     "data": {
      "text/plain": [
       "409.46"
      ]
     },
     "execution_count": 29,
     "metadata": {},
     "output_type": "execute_result"
    }
   ],
   "source": [
    "# to calculate Wilks score\n",
    "\n",
    "def calculate_wilks(total_lifted_weight = None):\n",
    "    if total_lifted_weight == None:\n",
    "        total_lifted_weight = int(input(\"Enter total lifted weight from all lifts:\")) \n",
    "    bodyweight = int(input(\"Enter bodyweight, round to nearest pound/ kilogram:\" ))\n",
    "    unit = input(\"Enter unit of measurement (kg or lb only): \")\n",
    "    sex = input(\"Enter Sex:\")\n",
    "\n",
    "\n",
    "\n",
    "    #make sure user uses correct inputs\n",
    "    if unit not in  [\"kg\", \"lb\", \"Kg\", \"Lb\", \"KG\", \"LB\"]:\n",
    "        print(\"Invalid unit of measurement, use only kg or lb.\")\n",
    "        return None\n",
    "        \n",
    "    if sex not in [\"Male\",\"Female\",\"male\",\"female\"]:\n",
    "        print(\"Invalid input for wilks formula.\")\n",
    "        return None\n",
    "    \n",
    "    #convert pounds to kilograms, wilks only workd with kg\n",
    "    if unit.lower() == 'lb':\n",
    "        total_lifted_weight /= 2.20462\n",
    "        bodyweight /= 2.20462\n",
    "\n",
    "    if sex.lower() == \"male\":\n",
    "        a = -216.0475144\t\n",
    "        b =\t16.2606339\t\n",
    "        c = -0.002388645\t\n",
    "        d =\t-0.00113732\t\n",
    "        e =\t7.01863 * 10**-6\t\n",
    "        f =\t-1.291 * 10**-8\t\n",
    "\n",
    "    elif sex.lower() == \"female\":\n",
    "        a = 594.31747775582\n",
    "        b =\t-27.23842536447\n",
    "        c = 0.82112226871\n",
    "        d =\t-0.00930733913\n",
    "        e =\t4.731582 * 10**-5\n",
    "        f =\t-9.054 * 10**-8\n",
    "\n",
    "    wilks_coefficient = 500 / (a + b * bodyweight + c * bodyweight**2 + d * bodyweight**3 + e * bodyweight**4 + f * bodyweight**5)\n",
    "    wilks_score = total_lifted_weight * wilks_coefficient\n",
    "    print(\"Your Estimated Wilks score is:\", round(wilks_score,2))\n",
    "    return round(wilks_score, 2) \n",
    "\n",
    "calculate_wilks()"
   ]
  },
  {
   "cell_type": "raw",
   "id": "31689865-0f6c-41eb-8515-fa282a89db75",
   "metadata": {},
   "source": []
  },
  {
   "cell_type": "code",
   "execution_count": null,
   "id": "f149073b-be9b-479f-a36e-8dc2fdecd75b",
   "metadata": {},
   "outputs": [],
   "source": []
  }
 ],
 "metadata": {
  "kernelspec": {
   "display_name": "Python 3 (ipykernel)",
   "language": "python",
   "name": "python3"
  },
  "language_info": {
   "codemirror_mode": {
    "name": "ipython",
    "version": 3
   },
   "file_extension": ".py",
   "mimetype": "text/x-python",
   "name": "python",
   "nbconvert_exporter": "python",
   "pygments_lexer": "ipython3",
   "version": "3.12.2"
  }
 },
 "nbformat": 4,
 "nbformat_minor": 5
}
